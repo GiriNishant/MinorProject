{
 "cells": [
  {
   "cell_type": "markdown",
   "metadata": {},
   "source": []
  },
  {
   "cell_type": "code",
   "execution_count": 43,
   "metadata": {},
   "outputs": [],
   "source": [
    "from PIL import Image\n",
    "img = Image.open(\"C:/mnist/Model/Ourimages/marks1.jpeg\")\n",
    "new_image = img.resize((224, 280))  #resizing image to 224x280\n",
    "y1=5\n",
    "y2=51\n",
    "for i in range(5):\n",
    "    x1=5\n",
    "    x2=51\n",
    "    for j in range(4):\n",
    "        area = (x1,y1,x2,y2)\n",
    "        cropped_img = new_image.crop(area)\n",
    "        cropped_img.show()\n",
    "        x1+=56\n",
    "        x2+=56\n",
    "    y1+=56\n",
    "    y2+=56"
   ]
  },
  {
   "cell_type": "code",
   "execution_count": null,
   "metadata": {},
   "outputs": [],
   "source": []
  },
  {
   "cell_type": "code",
   "execution_count": null,
   "metadata": {},
   "outputs": [],
   "source": []
  }
 ],
 "metadata": {
  "kernelspec": {
   "display_name": "Python 3.6 (tensorflow)",
   "language": "python",
   "name": "tensorflow"
  },
  "language_info": {
   "codemirror_mode": {
    "name": "ipython",
    "version": 3
   },
   "file_extension": ".py",
   "mimetype": "text/x-python",
   "name": "python",
   "nbconvert_exporter": "python",
   "pygments_lexer": "ipython3",
   "version": "3.6.6"
  }
 },
 "nbformat": 4,
 "nbformat_minor": 2
}
