{
 "cells": [
  {
   "cell_type": "code",
   "execution_count": 1,
   "metadata": {},
   "outputs": [
    {
     "name": "stderr",
     "output_type": "stream",
     "text": [
      "Using TensorFlow backend.\n"
     ]
    }
   ],
   "source": [
    "from keras.models import load_model\n",
    "from PIL import Image\n",
    "import PIL.ImageOps \n",
    "import numpy as np\n",
    "import matplotlib.image as mpimg \n",
    "import matplotlib.pyplot as plt"
   ]
  },
  {
   "cell_type": "code",
   "execution_count": 4,
   "metadata": {},
   "outputs": [
    {
     "name": "stdout",
     "output_type": "stream",
     "text": [
      "3\n",
      "0\n",
      "1\n",
      "0\n",
      "0\n",
      "2\n",
      "0\n",
      "0\n",
      "4\n",
      "1\n",
      "0\n",
      "0\n",
      "0\n",
      "3\n",
      "0\n",
      "0\n",
      "0\n",
      "0\n",
      "5\n",
      "0\n"
     ]
    }
   ],
   "source": [
    "img = Image.open(\"C:/mnist/Model/Ourimages/marks1.jpeg\")\n",
    "model = load_model('mnistCNN.h5')\n",
    "new_image = img.resize((224, 280))  #resizing image to 224x280\n",
    "y1=5\n",
    "y2=51\n",
    "for i in range(5):\n",
    "    x1=5\n",
    "    x2=51\n",
    "    for j in range(4):\n",
    "        \n",
    "        area = (x1,y1,x2,y2)\n",
    "        cropped_img = new_image.crop(area)\n",
    "       \n",
    "        gray = cropped_img.convert('L')\n",
    "        bw = gray.point(lambda x: 0 if x<128 else 255, '1')\n",
    "        bw.save(r\"C:\\mnist\\Model\\Ourimages\\result_bw5.jpeg\")\n",
    "        image = Image.open(r'C:\\mnist\\Model\\Ourimages\\result_bw5.jpeg')\n",
    "        inverted_image = PIL.ImageOps.invert(image)\n",
    "        #inverted_image.show()\n",
    "        \n",
    "        result=[0,0,0,0,0,0,0,0,0,0]\n",
    "        for index in range(10):\n",
    "            img = inverted_image.convert(\"L\")\n",
    "            img = img.resize((28,28))\n",
    "            #plt.imshow(img)\n",
    "            im2arr = np.array(img)\n",
    "            im2arr = im2arr.reshape(1,28,28,1)\n",
    "            #print(im2arr)\n",
    "            # Predicting the Test set results\n",
    "            y_pred = model.predict(im2arr)\n",
    "            #result=[0,0,0,0,0,0,0,0,0,0]\n",
    "            for idx in range(10):\n",
    "                if y_pred[0,idx]>=1.0:\n",
    "                    result[idx]+=1\n",
    "                   # print(result)\n",
    "            max=result[0]\n",
    "            residx=0\n",
    "    \n",
    "            for i in range(10):\n",
    "                if(max<result[i]):\n",
    "                    max=result[i]\n",
    "                    residx=i\n",
    "           # print(y_pred)\n",
    "        if(residx>5):\n",
    "            print('0')\n",
    "        else:    \n",
    "            print(residx,)\n",
    "    \n",
    "        x1+=56\n",
    "        x2+=56\n",
    "    y1+=56\n",
    "    y2+=56"
   ]
  },
  {
   "cell_type": "code",
   "execution_count": null,
   "metadata": {},
   "outputs": [],
   "source": []
  }
 ],
 "metadata": {
  "kernelspec": {
   "display_name": "Python 3.6 (tensorflow)",
   "language": "python",
   "name": "tensorflow"
  },
  "language_info": {
   "codemirror_mode": {
    "name": "ipython",
    "version": 3
   },
   "file_extension": ".py",
   "mimetype": "text/x-python",
   "name": "python",
   "nbconvert_exporter": "python",
   "pygments_lexer": "ipython3",
   "version": "3.6.6"
  }
 },
 "nbformat": 4,
 "nbformat_minor": 2
}
