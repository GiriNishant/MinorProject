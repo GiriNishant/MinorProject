{
 "cells": [
  {
   "cell_type": "code",
   "execution_count": 5,
   "metadata": {},
   "outputs": [],
   "source": [
    "from keras.models import load_model\n",
    "from PIL import Image\n",
    "import PIL.ImageOps \n",
    "import numpy as np\n",
    "import matplotlib.image as mpimg \n",
    "import matplotlib.pyplot as plt"
   ]
  },
  {
   "cell_type": "code",
   "execution_count": 17,
   "metadata": {},
   "outputs": [
    {
     "ename": "AttributeError",
     "evalue": "module 'PIL.Image' has no attribute 'imread'",
     "output_type": "error",
     "traceback": [
      "\u001b[1;31m---------------------------------------------------------------------------\u001b[0m",
      "\u001b[1;31mAttributeError\u001b[0m                            Traceback (most recent call last)",
      "\u001b[1;32m<ipython-input-17-e742af580ad3>\u001b[0m in \u001b[0;36m<module>\u001b[1;34m\u001b[0m\n\u001b[0;32m      1\u001b[0m \u001b[1;31m#importing an image and cropping it\u001b[0m\u001b[1;33m\u001b[0m\u001b[1;33m\u001b[0m\u001b[0m\n\u001b[1;32m----> 2\u001b[1;33m \u001b[0mimg\u001b[0m \u001b[1;33m=\u001b[0m \u001b[0mImage\u001b[0m\u001b[1;33m.\u001b[0m\u001b[0mimread\u001b[0m\u001b[1;33m(\u001b[0m\u001b[1;34mr\"C:/mnist/Model/Ourimages/marks1.jpeg\"\u001b[0m\u001b[1;33m)\u001b[0m\u001b[1;33m\u001b[0m\u001b[0m\n\u001b[0m\u001b[0;32m      3\u001b[0m \u001b[0mnew_image\u001b[0m \u001b[1;33m=\u001b[0m \u001b[0mimg\u001b[0m\u001b[1;33m.\u001b[0m\u001b[0mresize\u001b[0m\u001b[1;33m(\u001b[0m\u001b[1;33m(\u001b[0m\u001b[1;36m224\u001b[0m\u001b[1;33m,\u001b[0m \u001b[1;36m280\u001b[0m\u001b[1;33m)\u001b[0m\u001b[1;33m)\u001b[0m  \u001b[1;31m#resizing image to 224x280\u001b[0m\u001b[1;33m\u001b[0m\u001b[0m\n\u001b[0;32m      4\u001b[0m \u001b[0my1\u001b[0m\u001b[1;33m=\u001b[0m\u001b[1;36m5\u001b[0m\u001b[1;33m\u001b[0m\u001b[0m\n\u001b[0;32m      5\u001b[0m \u001b[0my2\u001b[0m\u001b[1;33m=\u001b[0m\u001b[1;36m51\u001b[0m\u001b[1;33m\u001b[0m\u001b[0m\n",
      "\u001b[1;31mAttributeError\u001b[0m: module 'PIL.Image' has no attribute 'imread'"
     ]
    }
   ],
   "source": [
    "#importing an image and cropping it\n",
    "img = Image.open(r\"C:/mnist/Model/Ourimages/marks1.jpeg\")\n",
    "new_image = img.resize((224, 280))  #resizing image to 224x280\n",
    "y1=5\n",
    "y2=51\n",
    "for i in range(5):\n",
    "    x1=5\n",
    "    x2=51\n",
    "    for j in range(4):\n",
    "        area = (x1,y1,x2,y2)\n",
    "        cropped_img = new_image.crop(area)\n",
    "        converted_img=Mnist_converter(cropped_img)\n",
    "       # cropped_img.show()\n",
    "        ans=Predict(converted_img)\n",
    "        print(ans)\n",
    "        x1+=56\n",
    "        x2+=56\n",
    "    y1+=56\n",
    "    y2+=56"
   ]
  },
  {
   "cell_type": "code",
   "execution_count": 3,
   "metadata": {},
   "outputs": [],
   "source": [
    "def Mnist_converter(img):\n",
    "    col = Image.open(img)\n",
    "    gray = col.convert('L')\n",
    "    bw = gray.point(lambda x: 0 if x<128 else 255, '1')\n",
    "    bw.save(r\"C:\\mnist\\Model\\Ourimages\\result_bw1.jpeg\")\n",
    "    \n",
    "  #  image = Image.open(r'C:\\mnist\\Model\\Ourimages\\result_bw5.jpeg')\n",
    "    return(PIL.ImageOps.invert(bw))\n",
    "\n",
    "  #  inverted_image.save(r'C:\\mnist\\Model\\Ourimages\\result5.jpeg')"
   ]
  },
  {
   "cell_type": "code",
   "execution_count": null,
   "metadata": {},
   "outputs": [],
   "source": [
    "def Predict(img):\n",
    "    model = load_model('mnistCNN.h5')\n",
    "    result=[0,0,0,0,0,0,0,0,0,0]\n",
    "    for index in range(10):\n",
    "        #img = Image.open('Ourimages/result5.jpeg').convert(\"L\")\n",
    "        img = img.resize((28,28))\n",
    "       # plt.imshow(img)\n",
    "        im2arr = np.array(img)\n",
    "        im2arr = im2arr.reshape(1,28,28,1)\n",
    "        #print(im2arr)\n",
    "        # Predicting the Test set results\n",
    "        y_pred = model.predict(im2arr)\n",
    "        #result=[0,0,0,0,0,0,0,0,0,0]\n",
    "        for idx in range(10):\n",
    "            if y_pred[0,idx]>=1.0:\n",
    "                result[idx]+=1\n",
    "               # print(result)\n",
    "        max=result[0]\n",
    "        residx=0\n",
    "    \n",
    "        for i in range(10):\n",
    "            if(max<result[i]):\n",
    "                max=result[i]\n",
    "                residx=i\n",
    "        #print(y_pred)   \n",
    "    return(residx)"
   ]
  }
 ],
 "metadata": {
  "kernelspec": {
   "display_name": "Python 3.6 (tensorflow)",
   "language": "python",
   "name": "tensorflow"
  },
  "language_info": {
   "codemirror_mode": {
    "name": "ipython",
    "version": 3
   },
   "file_extension": ".py",
   "mimetype": "text/x-python",
   "name": "python",
   "nbconvert_exporter": "python",
   "pygments_lexer": "ipython3",
   "version": "3.6.6"
  }
 },
 "nbformat": 4,
 "nbformat_minor": 2
}
